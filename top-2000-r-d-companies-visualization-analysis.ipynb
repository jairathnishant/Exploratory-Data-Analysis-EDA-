{
 "cells": [
  {
   "cell_type": "code",
   "execution_count": 30,
   "metadata": {
    "_cell_guid": "b1076dfc-b9ad-4769-8c92-a6c4dae69d19",
    "_uuid": "8f2839f25d086af736a60e9eeb907d3b93b6e0e5",
    "execution": {
     "iopub.execute_input": "2022-02-13T08:30:33.681884Z",
     "iopub.status.busy": "2022-02-13T08:30:33.681619Z",
     "iopub.status.idle": "2022-02-13T08:30:33.691052Z",
     "shell.execute_reply": "2022-02-13T08:30:33.690424Z",
     "shell.execute_reply.started": "2022-02-13T08:30:33.681858Z"
    }
   },
   "outputs": [],
   "source": [
    "# This Python 3 environment comes with many helpful analytics libraries installed\n",
    "# It is defined by the kaggle/python Docker image: https://github.com/kaggle/docker-python\n",
    "# For example, here's several helpful packages to load\n",
    "\n",
    "import numpy as np # linear algebra\n",
    "import pandas as pd # data processing, CSV file I/O (e.g. pd.read_csv)\n",
    "\n",
    "# Input data files are available in the read-only \"../input/\" directory\n",
    "# For example, running this (by clicking run or pressing Shift+Enter) will list all files under the input directory\n",
    "\n",
    "import os\n",
    "for dirname, _, filenames in os.walk('/kaggle/input'):\n",
    "    for filename in filenames:\n",
    "        print(os.path.join(dirname, filename))\n",
    "\n",
    "# You can write up to 20GB to the current directory (/kaggle/working/) that gets preserved as output when you create a version using \"Save & Run All\" \n",
    "# You can also write temporary files to /kaggle/temp/, but they won't be saved outside of the current session"
   ]
  },
  {
   "cell_type": "code",
   "execution_count": 1,
   "metadata": {
    "execution": {
     "iopub.execute_input": "2022-02-13T08:30:33.693029Z",
     "iopub.status.busy": "2022-02-13T08:30:33.692609Z",
     "iopub.status.idle": "2022-02-13T08:30:33.705137Z",
     "shell.execute_reply": "2022-02-13T08:30:33.704156Z",
     "shell.execute_reply.started": "2022-02-13T08:30:33.692989Z"
    }
   },
   "outputs": [],
   "source": [
    "# Importing all the required libraries\n",
    "\n",
    "import pandas as pd\n",
    "import numpy as np\n",
    "import matplotlib.pyplot as plt\n",
    "import seaborn as sns\n",
    "import plotly.express as px\n",
    "\n",
    "import warnings\n",
    "warnings.filterwarnings(\"ignore\")"
   ]
  },
  {
   "cell_type": "code",
   "execution_count": 41,
   "metadata": {
    "execution": {
     "iopub.execute_input": "2022-02-13T08:31:01.684816Z",
     "iopub.status.busy": "2022-02-13T08:31:01.684324Z",
     "iopub.status.idle": "2022-02-13T08:31:01.708389Z",
     "shell.execute_reply": "2022-02-13T08:31:01.707558Z",
     "shell.execute_reply.started": "2022-02-13T08:31:01.684771Z"
    }
   },
   "outputs": [],
   "source": [
    "# Reading the dataset and priniting top 5 rows\n",
    "\n",
    "df = pd.read_csv(\"/kaggle/input/top-2000-rd-companies/Top 2000 RD Companies.csv\", index_col  = 'Top 2000 R&D rank')\n",
    "#df['R&D expenditures Share'].round(decimals = 3)\n",
    "df.head()"
   ]
  },
  {
   "cell_type": "code",
   "execution_count": 33,
   "metadata": {
    "execution": {
     "iopub.execute_input": "2022-02-13T08:30:33.738544Z",
     "iopub.status.busy": "2022-02-13T08:30:33.737593Z",
     "iopub.status.idle": "2022-02-13T08:30:33.752775Z",
     "shell.execute_reply": "2022-02-13T08:30:33.751818Z",
     "shell.execute_reply.started": "2022-02-13T08:30:33.738497Z"
    }
   },
   "outputs": [],
   "source": [
    "# Checking the NoN count and column type\n",
    "df.info()"
   ]
  },
  {
   "cell_type": "code",
   "execution_count": 34,
   "metadata": {
    "execution": {
     "iopub.execute_input": "2022-02-13T08:30:33.755952Z",
     "iopub.status.busy": "2022-02-13T08:30:33.754834Z",
     "iopub.status.idle": "2022-02-13T08:30:33.776459Z",
     "shell.execute_reply": "2022-02-13T08:30:33.775384Z",
     "shell.execute_reply.started": "2022-02-13T08:30:33.755874Z"
    }
   },
   "outputs": [],
   "source": [
    "#Cleaning the dataset by dropping the last column with all NaN values in it\n",
    "\n",
    "df = df.iloc[:, :-1]\n",
    "df.head()"
   ]
  },
  {
   "cell_type": "markdown",
   "metadata": {},
   "source": [
    "#Checking Company's Headquarter location wise count of companies in top 2000 list"
   ]
  },
  {
   "cell_type": "code",
   "execution_count": 35,
   "metadata": {
    "execution": {
     "iopub.execute_input": "2022-02-13T08:30:33.778509Z",
     "iopub.status.busy": "2022-02-13T08:30:33.778032Z",
     "iopub.status.idle": "2022-02-13T08:30:33.792377Z",
     "shell.execute_reply": "2022-02-13T08:30:33.791577Z",
     "shell.execute_reply.started": "2022-02-13T08:30:33.778476Z"
    }
   },
   "outputs": [],
   "source": [
    "#Grouping the table to find country wise count of companies\n",
    "\n",
    "location_company_check =  (df.groupby([\"Company's headquarter location\"])['Company name'].count()\n",
    "                                      .reset_index()\n",
    "                                      .rename(columns = {\"Company's headquarter location\":'Country','Company name':'Count_Company'}))\n",
    "print(location_company_check)"
   ]
  },
  {
   "cell_type": "code",
   "execution_count": 36,
   "metadata": {
    "execution": {
     "iopub.execute_input": "2022-02-13T08:30:34.442555Z",
     "iopub.status.busy": "2022-02-13T08:30:34.442061Z",
     "iopub.status.idle": "2022-02-13T08:30:35.200701Z",
     "shell.execute_reply": "2022-02-13T08:30:35.199688Z",
     "shell.execute_reply.started": "2022-02-13T08:30:34.442509Z"
    }
   },
   "outputs": [],
   "source": [
    "#plotting a bar graph to see the country wise spread of top 2000 companies\n",
    "\n",
    "sns.set(font_scale=0.7) # size of labels on the chart\n",
    "\n",
    "plt.figure(figsize=(20,6))\n",
    "\n",
    "plt.title(\"Country-wise count of Companies\")\n",
    "\n",
    "chart = sns.barplot(y = location_company_check['Count_Company'], x = location_company_check['Country'], \n",
    "            order = location_company_check.sort_values('Count_Company', ascending = False).Country )\n",
    "\n",
    "chart.set_xticklabels(chart.get_xticklabels(), rotation = 30) #rotate the labels on x axis\n",
    "\n",
    "chart.bar_label(chart.containers[0]) # add labels on top of bars\n",
    "\n",
    "plt.show()"
   ]
  },
  {
   "cell_type": "markdown",
   "metadata": {},
   "source": [
    "We can see that US based companies by far exceed all other country based companies in filing Patents"
   ]
  },
  {
   "cell_type": "markdown",
   "metadata": {},
   "source": [
    "#Checking Industry wise relative spend of companies "
   ]
  },
  {
   "cell_type": "code",
   "execution_count": 37,
   "metadata": {
    "execution": {
     "iopub.execute_input": "2022-02-13T08:30:35.202936Z",
     "iopub.status.busy": "2022-02-13T08:30:35.202660Z",
     "iopub.status.idle": "2022-02-13T08:30:35.209896Z",
     "shell.execute_reply": "2022-02-13T08:30:35.209046Z",
     "shell.execute_reply.started": "2022-02-13T08:30:35.202894Z"
    }
   },
   "outputs": [],
   "source": [
    "#Checking unique Industry types in the dataset\n",
    "\n",
    "df.Industry.nunique()"
   ]
  },
  {
   "cell_type": "code",
   "execution_count": 38,
   "metadata": {
    "execution": {
     "iopub.execute_input": "2022-02-13T08:30:35.211360Z",
     "iopub.status.busy": "2022-02-13T08:30:35.211118Z",
     "iopub.status.idle": "2022-02-13T08:30:41.007137Z",
     "shell.execute_reply": "2022-02-13T08:30:41.006477Z",
     "shell.execute_reply.started": "2022-02-13T08:30:35.211332Z"
    }
   },
   "outputs": [],
   "source": [
    "# Plotting swarmplot\n",
    "\n",
    "plt.figure(figsize=(20,60))\n",
    "\n",
    "chart = sns.swarmplot(y = df.Industry, x = df['R&D expenditures Share'])\n",
    "\n",
    "chart.set_xticklabels(chart.get_xticklabels(), rotation = 30) #rotate the labels on x axis"
   ]
  },
  {
   "cell_type": "markdown",
   "metadata": {},
   "source": [
    "Through the swarmplot we can see most of the companies have a similar expenditure across industries.\n",
    "\n",
    "Although this chart was a little difficult to read because need to scroll a lot to read it. I couldn't think of a better alternate, Let me know if you have a better approach to analyze this."
   ]
  },
  {
   "cell_type": "code",
   "execution_count": 39,
   "metadata": {
    "execution": {
     "iopub.execute_input": "2022-02-13T08:30:41.008834Z",
     "iopub.status.busy": "2022-02-13T08:30:41.008165Z",
     "iopub.status.idle": "2022-02-13T08:30:41.026476Z",
     "shell.execute_reply": "2022-02-13T08:30:41.025429Z",
     "shell.execute_reply.started": "2022-02-13T08:30:41.008798Z"
    }
   },
   "outputs": [],
   "source": [
    "Industry_Expenditure = df.groupby(['Industry'])['R&D expenditures Share','Patents Share'].sum()\n",
    "Industry_Expenditure\n",
    "#Industry_Expenditure.index.nunique()"
   ]
  },
  {
   "cell_type": "code",
   "execution_count": 40,
   "metadata": {
    "execution": {
     "iopub.execute_input": "2022-02-13T08:30:41.030605Z",
     "iopub.status.busy": "2022-02-13T08:30:41.029359Z",
     "iopub.status.idle": "2022-02-13T08:30:41.121470Z",
     "shell.execute_reply": "2022-02-13T08:30:41.119459Z",
     "shell.execute_reply.started": "2022-02-13T08:30:41.030547Z"
    }
   },
   "outputs": [],
   "source": [
    "#Checking correlation between R&D expenditures Share and Patents Share \n",
    "\n",
    "fig = px.treemap(Industry_Expenditure, path = [Industry_Expenditure.index], values = 'R&D expenditures Share', color = 'Patents Share', \n",
    "                hover_data = [Industry_Expenditure.index], color_continuous_scale = 'matter')"
   ]
  },
  {
   "cell_type": "code",
   "execution_count": null,
   "metadata": {
    "execution": {
     "iopub.status.busy": "2022-02-13T08:30:41.126686Z",
     "iopub.status.idle": "2022-02-13T08:30:41.127381Z",
     "shell.execute_reply": "2022-02-13T08:30:41.127144Z",
     "shell.execute_reply.started": "2022-02-13T08:30:41.127116Z"
    }
   },
   "outputs": [],
   "source": [
    "#Checking correlation between all the 3 numerical variables using Pairplot\n",
    "\n",
    "plt.figure(figsize=(20,6))\n",
    "\n",
    "chart = sns.pairplot(df)"
   ]
  },
  {
   "cell_type": "markdown",
   "metadata": {},
   "source": [
    "There is no conclusive correlation between any of the 3 numerical variables.\n",
    "We can therefore conclude that increasing R&D expenditure nit necessarily increase Patents or Trademark share"
   ]
  }
 ],
 "metadata": {
  "kernelspec": {
   "display_name": "Python 3",
   "language": "python",
   "name": "python3"
  },
  "language_info": {
   "codemirror_mode": {
    "name": "ipython",
    "version": 3
   },
   "file_extension": ".py",
   "mimetype": "text/x-python",
   "name": "python",
   "nbconvert_exporter": "python",
   "pygments_lexer": "ipython3",
   "version": "3.8.8"
  }
 },
 "nbformat": 4,
 "nbformat_minor": 4
}
